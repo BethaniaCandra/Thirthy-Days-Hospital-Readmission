/* Dataset from https://archive.ics.uci.edu/ml/datasets/diabetes+130-us+hospitals+for+years+1999-2008 

Thirty Days-Hospital Readmission is an indicator of the quality of care in a hospital measured within 30 days after 
the patient is discharged from the hospital. Chronic diseases are associated with being one of the factors a patient 
can return to the hospital, one of which is diabetes. Therefore, an accurate prediction is needed to determine whether 
a patient needs to be readmission based on the medical recap at his first visit.*/

import pandas as pd
import matplotlib as mpl
import matplotlib.pyplot as plt
import seaborn as sns
import numpy as np
import kerjapraktik as kp
from sklearn.model_selection import train_test_split
from sklearn.preprocessing import OneHotEncoder, LabelEncoder
from sklearn.feature_selection import SelectKBest, mutual_info_classif
from sklearn.linear_model import LogisticRegression
from sklearn.metrics import confusion_matrix, accuracy_score, recall_score, precision_score
from sklearn.model_selection import train_test_split, cross_val_score, RepeatedStratifiedKFold
from sklearn.neighbors import KNeighborsClassifier
from sklearn.pipeline import Pipeline
from sklearn.preprocessing import RobustScaler
from sklearn.tree import DecisionTreeClassifier
from sklearn.ensemble import RandomForestClassifier
from sklearn.linear_model import LinearRegression
from sklearn.naive_bayes import GaussianNB
import warnings 
warnings.filterwarnings('ignore')

diabetic_data ='seaborn_data/diabetic_data.csv'
diabetic = pd.read_csv(diabetic_data)

diabetic=diabetic.replace("?",np.nan)

missing_values_count = diabetic.isnull().sum()
missing_values_count[:]

/*<span style='color:blue'> EXPLORATORY DATA ANALYSIS </span>*/
/*Target = Readmisi*/

plt.figure(figsize=(10,5))
sns.countplot(x='readmitted',data=diabetic);
print(diabetic.readmitted.value_counts())

diabetic['readmitted'] = diabetic['readmitted'].replace({"<30":"YES",
                                                         ">30":"YES"})
plt.figure(figsize=(10,5))
sns.countplot(x='readmitted',data=diabetic);
plt.title("Proportion of Target Value")
print(diabetic.readmitted.value_counts())

diabetic.readmitted.value_counts().plot.pie(autopct = "%.1f%%")
plt.title("Proportion of Target Value")
plt.show()

/*Input Variable*/
/*Race*/

plt.figure(figsize=(10,5))
sns.countplot(x='race',hue='readmitted',data=diabetic);
plt.title("Proportion of Race")
print(diabetic.race.value_counts())

/*Gender*/

plt.figure(figsize=(10,5))
sns.countplot(x='gender',data=diabetic);
plt.title("Distribution of Gender")
print(diabetic.gender.value_counts())

/*drop unknown*/

diabetic = diabetic.drop(diabetic.loc[diabetic["gender"]=="Unknown/Invalid"].index, axis=0)
plt.figure(figsize=(10,5))
sns.countplot(x='gender',hue='readmitted',data=diabetic);
plt.title("Distribution of Gender after drop unknown")
print(diabetic.gender.value_counts())

/*Age*/

plt.figure(figsize=(10,5))
sns.countplot(x='age',data=diabetic);
plt.title("Age Distribution")
print(diabetic.age.value_counts())

diabetic['age']= diabetic['age'].replace({'[0-10)':5,
                                          '[10-20)':15,
                                          '[20-30)':25,
                                          '[30-40)':35,
                                          '[40-50)':45,
                                          '[50-60)':55,
                                          '[60-70)':65,
                                          '[70-80)':75,
                                          '[80-90)':85,
                                          '[90-100)':95})
plt.figure(figsize=(10,5))
sns.countplot(x='age',hue='readmitted',data=diabetic);
plt.title("Age Distribution")

/*Weight*/

plt.figure(figsize=(10,5))
sns.countplot(x='weight',data=diabetic);
plt.title("Weight Distribution")
print(diabetic.weight.value_counts())

diabetic['weight']= diabetic['weight'].replace({'[75-100)':88,
                                                '[50-75)':63,
                                                '[100-125)':113,
                                                '[125-150)':138,
                                                '[25-50)':38,
                                                '[0-25)':13,
                                                '[150-175)':163,
                                                '[175-200)':188,
                                                '>200':213})
plt.figure(figsize=(10,5))
sns.countplot(x='weight',hue='readmitted',data=diabetic);
plt.title("Weight Distribution")

/*Admission Type ID*/

plt.figure(figsize=(10,5))
sns.countplot(x='admission_type_id',data=diabetic);
plt.title("Distribution of Admission IDs")
print(diabetic.admission_type_id.value_counts())

/*notes each number <br>
1: Emergency <br>
2: Urgent <br>
3: Elective <br>
4: Newborn <br>
5: Not Available <br>
6: NULL <br>
7: Trauma Center <br>
8: Not Mapped <br>
Data Not Available, NULL and Not Mapped better to be drop <br>
urgent = emergency (asume same) <br>
do mapping*/

mapping_admission_type_id = {1:"Emergency",
          2:"Emergency",
          3:"Elective",
          4:"New Born",
          5:np.nan,
          6:np.nan,
          7:"Trauma Center",
          8:np.nan}
diabetic.admission_type_id = diabetic.admission_type_id.replace(mapping_admission_type_id)
plt.figure(figsize=(10,5))
sns.countplot(x='admission_type_id',hue='readmitted',data=diabetic);
plt.title("Distribution of Admission IDs")
print(diabetic.admission_type_id.value_counts())

/*Discharge Disposition ID*/
plt.figure(figsize=(10,5))
sns.countplot(x='discharge_disposition_id',data=diabetic);
plt.title("Distribution of Disposition IDs")

/* patient status divided into 4 (discharge, expired, other and NaN) <br>
No 1,2,3,4,5,6,8,15,16,17,22,23,24,27,28,29,30 = discharge <br>
No 7,9,10,12,13,14 = other <br>
No 11,19,20,21 = expired <br>
No 18,25,26 = NaN <br>
do mapping*/

mapping_discharge_disposition_id = {1:"Discharged",2:"Discharged",3:"Discharged",4:"Discharged",5:"Discharged",6:"Discharged",8:"Discharged",
                                    15:"Discharged",16:"Discharged",17:"Discharged",
                                    22:"Discharged",23:"Discharged",24:"Discharged",27:"Discharged",28:"Discharged",29:"Discharged",30:"Discharged",
                                    7:"Other",9:"Other",10:"Other",12:"Other",13:"Other",14:"Other",
                                    11:"Expired",19:"Expired",20:"Expired",21:"Expired",
                                    18:np.nan,25:np.nan,26:np.nan}
diabetic.discharge_disposition_id = diabetic.discharge_disposition_id.replace(mapping_discharge_disposition_id)
plt.figure(figsize=(10,5))
sns.countplot(x='discharge_disposition_id',hue='readmitted',data=diabetic);
plt.title("Distribution of Disposition IDs")
print(diabetic.discharge_disposition_id.value_counts())

/*Admission Source ID*/

plt.figure(figsize=(10,5))
sns.countplot(x='admission_source_id',data=diabetic);
plt.title("Distribution of Admission Source IDs")
 
/* admission patient can be divided to <br>
No 1,2,3,4,5,6,10,18,22,25,26 = Referral & Transfer <br>
No 8,19 = Other <br>
No 9,15,17,20,21 = NaN <br>
No 11,12,13,14,23,24 = Birth <br>
No 7 = emergency <br>
do mapping*/

mapping_admission_source_id = {1:"Referral & Transfer",2:"Referral & Transfer",3:"Referral & Transfer",4:"Referral & Transfer",5:"Referral & Transfer",6:"Referral & Transfer",
                               10:"Referral & Transfer",18:"Referral & Transfer",22:"Referral & Transfer",25:"Referral & Transfer",26:"Referral & Transfer",
                               8:"Other",19:"Other",
                               9:np.nan,15:np.nan,17:np.nan,20:np.nan,21:np.nan,
                               11:"Birth",12:"Birth",13:"Birth",14:"Birth",23:"Birth",24:"Birth",
                               7:"Emergency" 
                              }
diabetic.admission_source_id = diabetic.admission_source_id.replace(mapping_admission_source_id)
plt.figure(figsize=(10,5))
sns.countplot(x='admission_source_id',hue='readmitted',data=diabetic);
plt.title("Distribution of Admission Source IDs")
print(diabetic.admission_source_id.value_counts())

/*Medical Specialty*/

plt.figure(figsize=(10,5))
sns.countplot(x='medical_specialty',data=diabetic);
plt.title("Medical Speciality")

/*The most frequently occurring value is InternalMedicine, Emergency/Trauma, Family/GeneralPractice, Cardiology, Surgery-General <br>
we clasiffy to this 5 big and the rest as other<br>*/

terbesar_medical_specialty = ['InternalMedicine','Family/GeneralPractice','Cardiology','Surgery-General']
diabetic.loc[~diabetic['medical_specialty'].isin(terbesar_medical_specialty),'medical_specialty']='Other'
plt.figure(figsize=(10,5))
sns.countplot(x='medical_specialty',hue='readmitted',data=diabetic);
plt.title("Medical Speciality")
print(diabetic.medical_specialty.value_counts())

/*Diagnosis
some codes show a certain types of data groups<br> 
390-459,785 = Circulatory <br>
460-519,786 = Respiratory <br>
520-579,787 = Digestive <br>
250.xx = Diabetes <br>
800-999 = Injury <br>
710-739 = Musculoskeletal <br>
580-629,788 = Genitourinary <br>
140-239 = Neoplasms <br>
780,781,784,790-799, 240-278 without 250, 680-709,782, 001-139,290-319,E-V,280-289,320-359,630-679,360-389,740-759 = Other <br>*/

def diabetic_diagnosis(data, cols):
    for col in cols:
        data.loc[(data[col].str.contains("V"))|(data[col].str.contains("E")),col]=-1
        data[col]=data[col].astype(np.float16)
    for col in cols:
        data["temp_diag"]=np.nan
        data.loc[(data[col]>=390)&(data[col]<=459)|(data[col]==785),"temp_diag"]= "Circulatory"
        data.loc[(data[col]>=460)&(data[col]<=519)|(data[col]==786),"temp_diag"]= "Respiratory"
        data.loc[(data[col]>=520)&(data[col]<=579)|(data[col]==787),"temp_diag"]= "Disgestive"
        data.loc[(data[col]>=250)&(data[col]<251),"temp_diag"]= "Diabetes"
        data.loc[(data[col]>=800)&(data[col]<=999),"temp_diag"]= "Injury"
        data.loc[(data[col]>=710)&(data[col]<=739),"temp_diag"]= "Musculoskeletal"
        data.loc[(data[col]>=580)&(data[col]<=629)|(data[col]==788),"temp_diag"]= "Genitourinary"
        data.loc[(data[col]>=140)&(data[col]<=239),"temp_diag"]= "Neoplasms"
        data["temp_diag"]=data["temp_diag"].fillna("Other")
        data[col]=data["temp_diag"]
        data=data.drop("temp_diag",axis=1)
    return data

diabetic = kp.diabetic_diagnosis(diabetic,["diag_1","diag_2","diag_3"])

def plot_diabetic(col,data):
    sns.countplot(x=col,data=data,order=data[f"{col}"].value_counts().index)
    plt.xticks(rotation=90)
    plt.title(col)
    plt.show()
diag_cols=['diag_1','diag_2','diag_3']
for diag in diag_cols:
    plot_diabetic(diag,diabetic)

/*Max Glu Serum*/

plt.figure(figsize=(10,5))
sns.countplot(x='max_glu_serum',data=diabetic);
print(diabetic.max_glu_serum.value_counts())

/* have 4 values : ">200",">300","normal",and "none" <br>
value ">200" and ">300" can be combined <br> 
none meaning patient not yet to do the test*/

diabetic['max_glu_serum'] = diabetic['max_glu_serum'].replace({">300":">200"})
plt.figure(figsize=(10,5))
sns.countplot(x = "max_glu_serum",hue = "readmitted", data = diabetic)
plt.title("Glucose Serum Test Result")

/*A1Cresult*/

plt.figure(figsize=(10,5))
sns.countplot(x='A1Cresult',data=diabetic);
print(diabetic.A1Cresult.value_counts())

diabetic = diabetic.replace({">8":">7"})
plt.figure(figsize=(10,5))
sns.countplot(x = "A1Cresult",hue="readmitted", data = diabetic)
plt.title("A1Cresult")
print(diabetic.A1Cresult.value_counts())

/*Diabetes Medications*/

kolom_medicine=['metformin', 'repaglinide', 'nateglinide', 'chlorpropamide',
                'glimepiride', 'acetohexamide', 'glipizide', 'glyburide', 'tolbutamide',
                'pioglitazone', 'rosiglitazone', 'acarbose', 'miglitol', 'troglitazone',
                'tolazamide', 'insulin', 'glyburide-metformin', 'glipizide-metformin',
                'glimepiride-pioglitazone','metformin-rosiglitazone', 'metformin-pioglitazone','examide','citoglipton']
def obat_obatan(medicines):
    for medicine in medicines:
        sns.countplot(x=medicine,hue='readmitted',data=diabetic)
        plt.show()
        print(medicine.upper())
        print(diabetic[f"{medicine}"].value_counts())
obat_obatan(kolom_medicine)

/*Change*/

diabetic.change=diabetic.change.replace("Ch","Yes")
plt.figure(figsize=(10,5))
sns.countplot(x='change',hue='readmitted',data=diabetic);
plt.title("Change in Diabetic Medications")
print(diabetic.change.value_counts())

/*Diabetes Medication*/

plt.figure(figsize=(10,5))
sns.countplot(x='diabetesMed',hue='readmitted',data=diabetic);
plt.title("Diabetic Medications Prescribed")
print(diabetic.diabetesMed.value_counts())

